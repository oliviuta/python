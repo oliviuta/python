{
 "cells": [
  {
   "cell_type": "markdown",
   "metadata": {},
   "source": [
    "# <span style=\"color:navy\">STAT 107 - Fall 2020 Final Project</span>\n",
    "**By:** Olivia Luca\n",
    "<span style=\"color:darkgrey\">_______________________________________________________________________________________________________________________________</span>"
   ]
  },
  {
   "cell_type": "markdown",
   "metadata": {},
   "source": [
    "## Loading Data\n",
    "<span style=\"color:lightgrey\">_______________________________________________________________________________________________________________________________</span>\n",
    "\n",
    "We first import different libraries, and then we load the `flights.csv` dataset."
   ]
  },
  {
   "cell_type": "code",
   "execution_count": 125,
   "metadata": {},
   "outputs": [],
   "source": [
    "# Importing necessary libraries\n",
    "import pandas as pd\n",
    "import matplotlib.pyplot as plt\n",
    "from scipy.stats import norm"
   ]
  },
  {
   "cell_type": "code",
   "execution_count": 126,
   "metadata": {},
   "outputs": [
    {
     "name": "stderr",
     "output_type": "stream",
     "text": [
      "C:\\Users\\olivi\\AppData\\Local\\Continuum\\miniconda3\\lib\\site-packages\\IPython\\core\\interactiveshell.py:3146: DtypeWarning: Columns (7,8) have mixed types.Specify dtype option on import or set low_memory=False.\n",
      "  interactivity=interactivity, compiler=compiler, result=result)\n"
     ]
    },
    {
     "data": {
      "text/html": [
       "<div>\n",
       "<style scoped>\n",
       "    .dataframe tbody tr th:only-of-type {\n",
       "        vertical-align: middle;\n",
       "    }\n",
       "\n",
       "    .dataframe tbody tr th {\n",
       "        vertical-align: top;\n",
       "    }\n",
       "\n",
       "    .dataframe thead th {\n",
       "        text-align: right;\n",
       "    }\n",
       "</style>\n",
       "<table border=\"1\" class=\"dataframe\">\n",
       "  <thead>\n",
       "    <tr style=\"text-align: right;\">\n",
       "      <th></th>\n",
       "      <th>YEAR</th>\n",
       "      <th>MONTH</th>\n",
       "      <th>DAY</th>\n",
       "      <th>DAY_OF_WEEK</th>\n",
       "      <th>AIRLINE</th>\n",
       "      <th>FLIGHT_NUMBER</th>\n",
       "      <th>TAIL_NUMBER</th>\n",
       "      <th>ORIGIN_AIRPORT</th>\n",
       "      <th>DESTINATION_AIRPORT</th>\n",
       "      <th>SCHEDULED_DEPARTURE</th>\n",
       "      <th>...</th>\n",
       "      <th>ARRIVAL_TIME</th>\n",
       "      <th>ARRIVAL_DELAY</th>\n",
       "      <th>DIVERTED</th>\n",
       "      <th>CANCELLED</th>\n",
       "      <th>CANCELLATION_REASON</th>\n",
       "      <th>AIR_SYSTEM_DELAY</th>\n",
       "      <th>SECURITY_DELAY</th>\n",
       "      <th>AIRLINE_DELAY</th>\n",
       "      <th>LATE_AIRCRAFT_DELAY</th>\n",
       "      <th>WEATHER_DELAY</th>\n",
       "    </tr>\n",
       "  </thead>\n",
       "  <tbody>\n",
       "    <tr>\n",
       "      <th>0</th>\n",
       "      <td>2015</td>\n",
       "      <td>1</td>\n",
       "      <td>1</td>\n",
       "      <td>4</td>\n",
       "      <td>AS</td>\n",
       "      <td>98</td>\n",
       "      <td>N407AS</td>\n",
       "      <td>ANC</td>\n",
       "      <td>SEA</td>\n",
       "      <td>5</td>\n",
       "      <td>...</td>\n",
       "      <td>408.0</td>\n",
       "      <td>-22.0</td>\n",
       "      <td>0</td>\n",
       "      <td>0</td>\n",
       "      <td>NaN</td>\n",
       "      <td>NaN</td>\n",
       "      <td>NaN</td>\n",
       "      <td>NaN</td>\n",
       "      <td>NaN</td>\n",
       "      <td>NaN</td>\n",
       "    </tr>\n",
       "    <tr>\n",
       "      <th>1</th>\n",
       "      <td>2015</td>\n",
       "      <td>1</td>\n",
       "      <td>1</td>\n",
       "      <td>4</td>\n",
       "      <td>AA</td>\n",
       "      <td>2336</td>\n",
       "      <td>N3KUAA</td>\n",
       "      <td>LAX</td>\n",
       "      <td>PBI</td>\n",
       "      <td>10</td>\n",
       "      <td>...</td>\n",
       "      <td>741.0</td>\n",
       "      <td>-9.0</td>\n",
       "      <td>0</td>\n",
       "      <td>0</td>\n",
       "      <td>NaN</td>\n",
       "      <td>NaN</td>\n",
       "      <td>NaN</td>\n",
       "      <td>NaN</td>\n",
       "      <td>NaN</td>\n",
       "      <td>NaN</td>\n",
       "    </tr>\n",
       "    <tr>\n",
       "      <th>2</th>\n",
       "      <td>2015</td>\n",
       "      <td>1</td>\n",
       "      <td>1</td>\n",
       "      <td>4</td>\n",
       "      <td>US</td>\n",
       "      <td>840</td>\n",
       "      <td>N171US</td>\n",
       "      <td>SFO</td>\n",
       "      <td>CLT</td>\n",
       "      <td>20</td>\n",
       "      <td>...</td>\n",
       "      <td>811.0</td>\n",
       "      <td>5.0</td>\n",
       "      <td>0</td>\n",
       "      <td>0</td>\n",
       "      <td>NaN</td>\n",
       "      <td>NaN</td>\n",
       "      <td>NaN</td>\n",
       "      <td>NaN</td>\n",
       "      <td>NaN</td>\n",
       "      <td>NaN</td>\n",
       "    </tr>\n",
       "    <tr>\n",
       "      <th>3</th>\n",
       "      <td>2015</td>\n",
       "      <td>1</td>\n",
       "      <td>1</td>\n",
       "      <td>4</td>\n",
       "      <td>AA</td>\n",
       "      <td>258</td>\n",
       "      <td>N3HYAA</td>\n",
       "      <td>LAX</td>\n",
       "      <td>MIA</td>\n",
       "      <td>20</td>\n",
       "      <td>...</td>\n",
       "      <td>756.0</td>\n",
       "      <td>-9.0</td>\n",
       "      <td>0</td>\n",
       "      <td>0</td>\n",
       "      <td>NaN</td>\n",
       "      <td>NaN</td>\n",
       "      <td>NaN</td>\n",
       "      <td>NaN</td>\n",
       "      <td>NaN</td>\n",
       "      <td>NaN</td>\n",
       "    </tr>\n",
       "    <tr>\n",
       "      <th>4</th>\n",
       "      <td>2015</td>\n",
       "      <td>1</td>\n",
       "      <td>1</td>\n",
       "      <td>4</td>\n",
       "      <td>AS</td>\n",
       "      <td>135</td>\n",
       "      <td>N527AS</td>\n",
       "      <td>SEA</td>\n",
       "      <td>ANC</td>\n",
       "      <td>25</td>\n",
       "      <td>...</td>\n",
       "      <td>259.0</td>\n",
       "      <td>-21.0</td>\n",
       "      <td>0</td>\n",
       "      <td>0</td>\n",
       "      <td>NaN</td>\n",
       "      <td>NaN</td>\n",
       "      <td>NaN</td>\n",
       "      <td>NaN</td>\n",
       "      <td>NaN</td>\n",
       "      <td>NaN</td>\n",
       "    </tr>\n",
       "    <tr>\n",
       "      <th>...</th>\n",
       "      <td>...</td>\n",
       "      <td>...</td>\n",
       "      <td>...</td>\n",
       "      <td>...</td>\n",
       "      <td>...</td>\n",
       "      <td>...</td>\n",
       "      <td>...</td>\n",
       "      <td>...</td>\n",
       "      <td>...</td>\n",
       "      <td>...</td>\n",
       "      <td>...</td>\n",
       "      <td>...</td>\n",
       "      <td>...</td>\n",
       "      <td>...</td>\n",
       "      <td>...</td>\n",
       "      <td>...</td>\n",
       "      <td>...</td>\n",
       "      <td>...</td>\n",
       "      <td>...</td>\n",
       "      <td>...</td>\n",
       "      <td>...</td>\n",
       "    </tr>\n",
       "    <tr>\n",
       "      <th>5819074</th>\n",
       "      <td>2015</td>\n",
       "      <td>12</td>\n",
       "      <td>31</td>\n",
       "      <td>4</td>\n",
       "      <td>B6</td>\n",
       "      <td>688</td>\n",
       "      <td>N657JB</td>\n",
       "      <td>LAX</td>\n",
       "      <td>BOS</td>\n",
       "      <td>2359</td>\n",
       "      <td>...</td>\n",
       "      <td>753.0</td>\n",
       "      <td>-26.0</td>\n",
       "      <td>0</td>\n",
       "      <td>0</td>\n",
       "      <td>NaN</td>\n",
       "      <td>NaN</td>\n",
       "      <td>NaN</td>\n",
       "      <td>NaN</td>\n",
       "      <td>NaN</td>\n",
       "      <td>NaN</td>\n",
       "    </tr>\n",
       "    <tr>\n",
       "      <th>5819075</th>\n",
       "      <td>2015</td>\n",
       "      <td>12</td>\n",
       "      <td>31</td>\n",
       "      <td>4</td>\n",
       "      <td>B6</td>\n",
       "      <td>745</td>\n",
       "      <td>N828JB</td>\n",
       "      <td>JFK</td>\n",
       "      <td>PSE</td>\n",
       "      <td>2359</td>\n",
       "      <td>...</td>\n",
       "      <td>430.0</td>\n",
       "      <td>-16.0</td>\n",
       "      <td>0</td>\n",
       "      <td>0</td>\n",
       "      <td>NaN</td>\n",
       "      <td>NaN</td>\n",
       "      <td>NaN</td>\n",
       "      <td>NaN</td>\n",
       "      <td>NaN</td>\n",
       "      <td>NaN</td>\n",
       "    </tr>\n",
       "    <tr>\n",
       "      <th>5819076</th>\n",
       "      <td>2015</td>\n",
       "      <td>12</td>\n",
       "      <td>31</td>\n",
       "      <td>4</td>\n",
       "      <td>B6</td>\n",
       "      <td>1503</td>\n",
       "      <td>N913JB</td>\n",
       "      <td>JFK</td>\n",
       "      <td>SJU</td>\n",
       "      <td>2359</td>\n",
       "      <td>...</td>\n",
       "      <td>432.0</td>\n",
       "      <td>-8.0</td>\n",
       "      <td>0</td>\n",
       "      <td>0</td>\n",
       "      <td>NaN</td>\n",
       "      <td>NaN</td>\n",
       "      <td>NaN</td>\n",
       "      <td>NaN</td>\n",
       "      <td>NaN</td>\n",
       "      <td>NaN</td>\n",
       "    </tr>\n",
       "    <tr>\n",
       "      <th>5819077</th>\n",
       "      <td>2015</td>\n",
       "      <td>12</td>\n",
       "      <td>31</td>\n",
       "      <td>4</td>\n",
       "      <td>B6</td>\n",
       "      <td>333</td>\n",
       "      <td>N527JB</td>\n",
       "      <td>MCO</td>\n",
       "      <td>SJU</td>\n",
       "      <td>2359</td>\n",
       "      <td>...</td>\n",
       "      <td>330.0</td>\n",
       "      <td>-10.0</td>\n",
       "      <td>0</td>\n",
       "      <td>0</td>\n",
       "      <td>NaN</td>\n",
       "      <td>NaN</td>\n",
       "      <td>NaN</td>\n",
       "      <td>NaN</td>\n",
       "      <td>NaN</td>\n",
       "      <td>NaN</td>\n",
       "    </tr>\n",
       "    <tr>\n",
       "      <th>5819078</th>\n",
       "      <td>2015</td>\n",
       "      <td>12</td>\n",
       "      <td>31</td>\n",
       "      <td>4</td>\n",
       "      <td>B6</td>\n",
       "      <td>839</td>\n",
       "      <td>N534JB</td>\n",
       "      <td>JFK</td>\n",
       "      <td>BQN</td>\n",
       "      <td>2359</td>\n",
       "      <td>...</td>\n",
       "      <td>442.0</td>\n",
       "      <td>2.0</td>\n",
       "      <td>0</td>\n",
       "      <td>0</td>\n",
       "      <td>NaN</td>\n",
       "      <td>NaN</td>\n",
       "      <td>NaN</td>\n",
       "      <td>NaN</td>\n",
       "      <td>NaN</td>\n",
       "      <td>NaN</td>\n",
       "    </tr>\n",
       "  </tbody>\n",
       "</table>\n",
       "<p>5819079 rows × 31 columns</p>\n",
       "</div>"
      ],
      "text/plain": [
       "         YEAR  MONTH  DAY  DAY_OF_WEEK AIRLINE  FLIGHT_NUMBER TAIL_NUMBER  \\\n",
       "0        2015      1    1            4      AS             98      N407AS   \n",
       "1        2015      1    1            4      AA           2336      N3KUAA   \n",
       "2        2015      1    1            4      US            840      N171US   \n",
       "3        2015      1    1            4      AA            258      N3HYAA   \n",
       "4        2015      1    1            4      AS            135      N527AS   \n",
       "...       ...    ...  ...          ...     ...            ...         ...   \n",
       "5819074  2015     12   31            4      B6            688      N657JB   \n",
       "5819075  2015     12   31            4      B6            745      N828JB   \n",
       "5819076  2015     12   31            4      B6           1503      N913JB   \n",
       "5819077  2015     12   31            4      B6            333      N527JB   \n",
       "5819078  2015     12   31            4      B6            839      N534JB   \n",
       "\n",
       "        ORIGIN_AIRPORT DESTINATION_AIRPORT  SCHEDULED_DEPARTURE  ...  \\\n",
       "0                  ANC                 SEA                    5  ...   \n",
       "1                  LAX                 PBI                   10  ...   \n",
       "2                  SFO                 CLT                   20  ...   \n",
       "3                  LAX                 MIA                   20  ...   \n",
       "4                  SEA                 ANC                   25  ...   \n",
       "...                ...                 ...                  ...  ...   \n",
       "5819074            LAX                 BOS                 2359  ...   \n",
       "5819075            JFK                 PSE                 2359  ...   \n",
       "5819076            JFK                 SJU                 2359  ...   \n",
       "5819077            MCO                 SJU                 2359  ...   \n",
       "5819078            JFK                 BQN                 2359  ...   \n",
       "\n",
       "         ARRIVAL_TIME  ARRIVAL_DELAY  DIVERTED  CANCELLED  \\\n",
       "0               408.0          -22.0         0          0   \n",
       "1               741.0           -9.0         0          0   \n",
       "2               811.0            5.0         0          0   \n",
       "3               756.0           -9.0         0          0   \n",
       "4               259.0          -21.0         0          0   \n",
       "...               ...            ...       ...        ...   \n",
       "5819074         753.0          -26.0         0          0   \n",
       "5819075         430.0          -16.0         0          0   \n",
       "5819076         432.0           -8.0         0          0   \n",
       "5819077         330.0          -10.0         0          0   \n",
       "5819078         442.0            2.0         0          0   \n",
       "\n",
       "         CANCELLATION_REASON  AIR_SYSTEM_DELAY  SECURITY_DELAY  AIRLINE_DELAY  \\\n",
       "0                        NaN               NaN             NaN            NaN   \n",
       "1                        NaN               NaN             NaN            NaN   \n",
       "2                        NaN               NaN             NaN            NaN   \n",
       "3                        NaN               NaN             NaN            NaN   \n",
       "4                        NaN               NaN             NaN            NaN   \n",
       "...                      ...               ...             ...            ...   \n",
       "5819074                  NaN               NaN             NaN            NaN   \n",
       "5819075                  NaN               NaN             NaN            NaN   \n",
       "5819076                  NaN               NaN             NaN            NaN   \n",
       "5819077                  NaN               NaN             NaN            NaN   \n",
       "5819078                  NaN               NaN             NaN            NaN   \n",
       "\n",
       "         LATE_AIRCRAFT_DELAY  WEATHER_DELAY  \n",
       "0                        NaN            NaN  \n",
       "1                        NaN            NaN  \n",
       "2                        NaN            NaN  \n",
       "3                        NaN            NaN  \n",
       "4                        NaN            NaN  \n",
       "...                      ...            ...  \n",
       "5819074                  NaN            NaN  \n",
       "5819075                  NaN            NaN  \n",
       "5819076                  NaN            NaN  \n",
       "5819077                  NaN            NaN  \n",
       "5819078                  NaN            NaN  \n",
       "\n",
       "[5819079 rows x 31 columns]"
      ]
     },
     "execution_count": 126,
     "metadata": {},
     "output_type": "execute_result"
    }
   ],
   "source": [
    "# Storing the dataset in a variable called 'flights'\n",
    "flights = pd.read_csv('flights.csv')\n",
    "flights"
   ]
  },
  {
   "cell_type": "markdown",
   "metadata": {},
   "source": [
    "## Analysis\n",
    "<span style=\"color:lightgrey\">_______________________________________________________________________________________________________________________________</span>\n"
   ]
  },
  {
   "cell_type": "markdown",
   "metadata": {},
   "source": [
    "### <mark>Section 1: Hypothesis Test 1</mark>"
   ]
  },
  {
   "cell_type": "markdown",
   "metadata": {},
   "source": [
    "`american` = American Airlines (AA) flights in December from O'Hare International Airport (Chicago) to Los Angeles International Aiport and the delay between scheduled arrival time and actual arrival time \n",
    "\n",
    "`united` = United Airlines (UA) flights in December from O'Hare International Airport (Chicago) to Los Angeles International Aiport and the delay between scheduled arrival time and actual arrival time "
   ]
  },
  {
   "cell_type": "code",
   "execution_count": 127,
   "metadata": {},
   "outputs": [],
   "source": [
    "# Filtering out only the values we are interested in and dropping empty values\n",
    "\n",
    "american = flights.loc[(flights['MONTH'] == 12) & (flights['ORIGIN_AIRPORT'] == 'ORD') & (flights['DESTINATION_AIRPORT'] == 'LAX') &\n",
    "           (flights['AIRLINE'] == 'AA'), 'ARRIVAL_DELAY'].dropna()\n",
    "united = flights.loc[(flights['MONTH'] == 12) & (flights['ORIGIN_AIRPORT'] == 'ORD') & (flights['DESTINATION_AIRPORT'] == 'LAX') &\n",
    "           (flights['AIRLINE'] == 'UA'), 'ARRIVAL_DELAY'].dropna()"
   ]
  },
  {
   "cell_type": "markdown",
   "metadata": {},
   "source": [
    "**Below we check to see if the test assumptions are satisfied.**\n",
    "\n",
    "One of these 2 conditions must be satisfied in order to use a Z-test to compare 2 population means:\n",
    "- 𝑛<sub>1</sub> and 𝑛<sub>2</sub> are large (≥ 30)\n",
    "\n",
    "- Population 1 and population 2 are approximately normal"
   ]
  },
  {
   "cell_type": "code",
   "execution_count": 128,
   "metadata": {},
   "outputs": [
    {
     "name": "stdout",
     "output_type": "stream",
     "text": [
      "AA: n = 280 🗸\n",
      "UA: n = 302 🗸\n"
     ]
    }
   ],
   "source": [
    "# Testing the first condition: n1 (american) and n2 (united) are >= 30\n",
    "\n",
    "# n1 (american) is >= 30\n",
    "american_count = american.count()\n",
    "\n",
    "if (american.count() >= 30):\n",
    "    print('AA: n = ' + str(american_count) + ' 🗸')\n",
    "    \n",
    "# n2 (united) is >= 30\n",
    "united_count = united.count()\n",
    "\n",
    "if (united.count() >= 30):\n",
    "    print('UA: n = ' + str(united_count) + ' 🗸')\n",
    "    \n",
    "# AA = American Airlines\n",
    "# UA = United Airlines"
   ]
  },
  {
   "cell_type": "markdown",
   "metadata": {},
   "source": [
    "**Boxplot**\n",
    "\n",
    "Since the first condition is satisfied we know that it is ok to perform the test and we do not need to test the second condition, so we can move on to plotting a boxplot of the two samples.\n"
   ]
  },
  {
   "cell_type": "code",
   "execution_count": 129,
   "metadata": {},
   "outputs": [
    {
     "data": {
      "image/png": "[encoded data removed]",
      "text/plain": [
       "<Figure size 432x288 with 1 Axes>"
      ]
     },
     "metadata": {
      "needs_background": "light"
     },
     "output_type": "display_data"
    }
   ],
   "source": [
    "# Plotting boxplot of the two sample arrival delays on flights in December from ORD to LAX on American Airlines flights and on United Airlines flights\n",
    "plt.boxplot([american,united])\n",
    "plt.xlabel(\"American Airlines vs. United Airlines\")\n",
    "plt.ylabel(\"Time Delayed (in minutes)\")\n",
    "\n",
    "# AA = American Airlines\n",
    "# UA = United Airlines\n",
    "\n",
    "plt.xticks([1,2],[\"AA\",\"UA\"])\n",
    "plt.title(\"Arrival Delays for Flights in December from ORD to LAX Boxplots\")\n",
    "plt.show()"
   ]
  },
  {
   "cell_type": "markdown",
   "metadata": {},
   "source": [
    "**Hypothesis Test 1**\n",
    "\n",
    "Null Hypothesis: \n",
    "**<span style=\"color:darkred\">H<sub>0</sub></span>**: $\\mu$<sub>1</sub> - $\\mu$<sub>2</sub> = 0    \n",
    "Alternate Hypothesis:\n",
    "**<span style=\"color:darkred\">H<sub>a</sub></span>**: $\\mu$<sub>1</sub> - $\\mu$<sub>2</sub> $\\neq$ 0\n",
    "\n",
    "\n",
    "$\\mu$<sub>1</sub> = American Airlines population mean for arrival delays in December flights from ORD to LAX    \n",
    "$\\mu$<sub>2</sub> = United Airlines population mean for arrival delays in December flights from ORD to LAX\n",
    "\n",
    "Significance level, $\\alpha$ = 0.05\n",
    "\n",
    "Moreover, I am using a two-sided alternate hypothesis because I am looking to test for whether there is a difference between $\\mu$<sub>1</sub> and $\\mu$<sub>2</sub>, not necessarily whether $\\mu$<sub>1</sub> is greater or less than $\\mu$<sub>2</sub>.\n",
    "\n",
    "-----------------------------------------------------------------------------"
   ]
  },
  {
   "cell_type": "markdown",
   "metadata": {},
   "source": [
    "Now we will calculate the sample means and standard deviations for American Airlines and United Airlines arrival delays in December flights from ORD to LAX which we will need in our 2-sample z-test."
   ]
  },
  {
   "cell_type": "code",
   "execution_count": 130,
   "metadata": {},
   "outputs": [],
   "source": [
    "# American Airlines sample mean\n",
    "american_mean = american.mean()\n",
    "\n",
    "# American Airlines sample standard deviation\n",
    "american_std = american.std()\n",
    "\n",
    "# United Airlines sample mean \n",
    "united_mean = united.mean()\n",
    "\n",
    "# United Airlines sample standard deviation\n",
    "united_std = united.std()"
   ]
  },
  {
   "cell_type": "markdown",
   "metadata": {},
   "source": [
    "Now we will input what we calculated above into the 2-sample z-test:"
   ]
  },
  {
   "cell_type": "code",
   "execution_count": 131,
   "metadata": {},
   "outputs": [
    {
     "name": "stdout",
     "output_type": "stream",
     "text": [
      "The z statistic is -1.3926811323141544.\n"
     ]
    }
   ],
   "source": [
    "# 2-sample z-test\n",
    "\n",
    "Z1 = (american_mean - united_mean)/((american_std**2)/american_count + (united_std**2)/united_count)**.5\n",
    "print('The z statistic is ' + str(Z1) + '.')"
   ]
  },
  {
   "cell_type": "markdown",
   "metadata": {},
   "source": [
    "In order to find the correct p-value, we must multiply our norm.cdf result by 2 to account for our two-sided alternate hypothesis."
   ]
  },
  {
   "cell_type": "code",
   "execution_count": 132,
   "metadata": {},
   "outputs": [
    {
     "name": "stdout",
     "output_type": "stream",
     "text": [
      "The p-value is 0.16371623660393797.\n"
     ]
    }
   ],
   "source": [
    "# p-value\n",
    "p_value1 = norm.cdf(Z1) * 2\n",
    "print('The p-value is ' + str(p_value1) + '.')"
   ]
  },
  {
   "cell_type": "markdown",
   "metadata": {},
   "source": [
    "**Hypothesis 1 Conclusion:**\n",
    "\n",
    "Here we establish the conclusion based off of whether we reject the null hypothesis or fail to reject it. If the p-value is greater than $\\alpha$, we fail to reject it, however if it is less than or equal to $\\alpha$, we reject the null hypothesis."
   ]
  },
  {
   "cell_type": "code",
   "execution_count": 133,
   "metadata": {},
   "outputs": [
    {
     "name": "stdout",
     "output_type": "stream",
     "text": [
      "We fail to reject the null hypothesis and conclude that there is no evidence supporting for a difference in the population mean arrival delay on flights in December from O’Hare International Airport (Chicago) ORD to Los Angeles International Airport LAX between American Airlines and United Airlines.\n"
     ]
    }
   ],
   "source": [
    "# Determining whether to reject the null hypothesis or fail to reject it\n",
    "alpha = .05\n",
    "\n",
    "if (p_value1 > alpha):\n",
    "    print('We fail to reject the null hypothesis and conclude that there is no evidence supporting for a difference in the population mean arrival delay on flights in December from O’Hare International Airport (Chicago) ORD to Los Angeles International Airport LAX between American Airlines and United Airlines.')\n",
    "else:\n",
    "    print('We reject the null hypothesis and conclude that there is evidence supporting a difference in the population mean arrival delay on flights in December from O’Hare International Airport (Chicago) ORD to Los Angeles International Airport LAX between American Airlines and United Airlines.')"
   ]
  },
  {
   "cell_type": "markdown",
   "metadata": {},
   "source": [
    "<span style=\"color:lightgrey\">_______________________________________________________________________________________________________________________________</span>"
   ]
  },
  {
   "cell_type": "markdown",
   "metadata": {},
   "source": [
    "### <mark>Section 2: Hypothesis Test 2</mark>\n"
   ]
  },
  {
   "cell_type": "markdown",
   "metadata": {},
   "source": [
    "`aa` = American Airlines (AA) flights in December from O'Hare International Airport (Chicago) to Los Angeles International Aiport with delay times over an hour   \n",
    "`ua` = United Airlines (UA) flights in December from O'Hare International Airport (Chicago) to Los Angeles International Aiport with delay times over an hour\n",
    "\n",
    "First, we have to filter out the relevant values for the second hypothesis test from the `flights` dataset."
   ]
  },
  {
   "cell_type": "code",
   "execution_count": 134,
   "metadata": {},
   "outputs": [],
   "source": [
    "# Filtering out only the values we are interested in and dropping empty values\n",
    "\n",
    "aa = american.loc[flights['ARRIVAL_DELAY'] > 60].dropna()\n",
    "ua = united.loc[flights['ARRIVAL_DELAY'] > 60].dropna()"
   ]
  },
  {
   "cell_type": "markdown",
   "metadata": {},
   "source": [
    "Next, we need to calculate the respective sample sizes and sample means to see if they satisfy all of our assumptions for our z-test to compare 2 population proportions:\n",
    "\n",
    "- n<sub>1</sub> *  p̂<sub>1</sub> $\\geq$ 10 **and** n<sub>1</sub> * (1 - p̂<sub>1</sub>) $\\geq$ 10\n",
    "\n",
    "- n<sub>2</sub> *  p̂<sub>2</sub> $\\geq$ 10 **and** n<sub>2</sub> * (1 - p̂<sub>2</sub>) $\\geq$ 10\n"
   ]
  },
  {
   "cell_type": "code",
   "execution_count": 136,
   "metadata": {},
   "outputs": [],
   "source": [
    "# Sample successes\n",
    "x1 = aa.count()\n",
    "x2 = ua.count()\n",
    "\n",
    "# Sample sizes\n",
    "n1 = american_count\n",
    "n2 = united_count\n",
    "\n",
    "# P-hat values/sample proportions\n",
    "p̂1 = x1/n1\n",
    "p̂2 = x2/n2\n"
   ]
  },
  {
   "cell_type": "markdown",
   "metadata": {},
   "source": [
    "Making sure we satisfy all four conditions so that it is ok to use a z-test to compare 2 population proportions:"
   ]
  },
  {
   "cell_type": "code",
   "execution_count": 137,
   "metadata": {},
   "outputs": [
    {
     "name": "stdout",
     "output_type": "stream",
     "text": [
      "Condition 1 passed: product is greater than or equal to 10\n"
     ]
    }
   ],
   "source": [
    "# Testing condition 1\n",
    "if ((n1 * p̂1) >= 10):\n",
    "    print(\"Condition 1 passed: product is greater than or equal to 10\")\n",
    "else:\n",
    "    print(\"Condition 1 failed: product is less than 10\")"
   ]
  },
  {
   "cell_type": "code",
   "execution_count": 138,
   "metadata": {},
   "outputs": [
    {
     "name": "stdout",
     "output_type": "stream",
     "text": [
      "Condition 2 passed: result is greater than or equal to 10\n"
     ]
    }
   ],
   "source": [
    "# Testing Condition 2\n",
    "if ((n1*(1 - p̂1)) >= 10):\n",
    "    print(\"Condition 2 passed: result is greater than or equal to 10\")\n",
    "else:\n",
    "    print(\"Condition 2 failed: result is less 10\")"
   ]
  },
  {
   "cell_type": "code",
   "execution_count": 139,
   "metadata": {},
   "outputs": [
    {
     "name": "stdout",
     "output_type": "stream",
     "text": [
      "Condition 3 passed: product is greater than or equal to 10\n"
     ]
    }
   ],
   "source": [
    "# Testing Condition 3\n",
    "if ((n2 * p̂2) >= 10):\n",
    "    print(\"Condition 3 passed: product is greater than or equal to 10\")\n",
    "else:\n",
    "    print(\"Condition 3 failed: product is less than 10\")"
   ]
  },
  {
   "cell_type": "code",
   "execution_count": 140,
   "metadata": {},
   "outputs": [
    {
     "name": "stdout",
     "output_type": "stream",
     "text": [
      "Condition 4 passed: result is greater than or equal to 10\n"
     ]
    }
   ],
   "source": [
    "# Testing Condition 4\n",
    "if ((n2*(1 - p̂2)) >= 10):\n",
    "    print(\"Condition 4 passed: result is greater than or equal to 10\")\n",
    "else:\n",
    "    print(\"Condition 4 failed: result is less than\")"
   ]
  },
  {
   "cell_type": "markdown",
   "metadata": {},
   "source": [
    "Since all the conditions passed, we can continue to calculate the P-hat, test statistic, and also state the hypotheses.\n",
    "\n",
    "--------------------------------------------------------\n",
    "\n",
    "**Hypothesis Test 2**\n",
    "\n",
    "Null Hypothesis: \n",
    "**<span style=\"color:darkred\">H<sub>0</sub></span>**: p<sub>1</sub> = p<sub>2</sub>    \n",
    "Alternate Hypothesis:\n",
    "**<span style=\"color:darkred\">H<sub>a</sub></span>**: p<sub>1</sub> $\\neq$ p<sub>2</sub> \n",
    "\n",
    "\n",
    "p<sub>1</sub> = American Airlines population proportion for December flights from ORD to LAX delaying over an hour    \n",
    "p<sub>2</sub> = United Airlines population proportion for December flights from ORD to LAX delaying over an hour\n",
    "\n",
    "Significance level, $\\alpha$ = 0.05\n",
    "\n",
    "Additionally, I am using a two-sided alternate hypothesis because I would like to test for whether there is a difference between p<sub>1</sub> and p<sub>2</sub>, not necessarily whether p<sub>1</sub> is greater or less than p<sub>2</sub>."
   ]
  },
  {
   "cell_type": "code",
   "execution_count": 141,
   "metadata": {},
   "outputs": [
    {
     "data": {
      "text/plain": [
       "0.070446735395189"
      ]
     },
     "execution_count": 141,
     "metadata": {},
     "output_type": "execute_result"
    }
   ],
   "source": [
    "# Calculating P-hat\n",
    "p̂ = (x1 + x2)/(n1 + n2)\n",
    "p̂"
   ]
  },
  {
   "cell_type": "markdown",
   "metadata": {},
   "source": [
    "Now we will input what was calculated above into the z-test to compare 2 population proportions:"
   ]
  },
  {
   "cell_type": "code",
   "execution_count": 142,
   "metadata": {},
   "outputs": [
    {
     "name": "stdout",
     "output_type": "stream",
     "text": [
      "The z statistic is -1.5318672735156422.\n"
     ]
    }
   ],
   "source": [
    "# Calculating z-test to compare 2 population proportions\n",
    "Z2 = (p̂1 - p̂2)/((p̂*(1-p̂))*((1/n1)+(1/n2)))**.5\n",
    "print('The z statistic is ' + str(Z2) + '.')"
   ]
  },
  {
   "cell_type": "markdown",
   "metadata": {},
   "source": [
    "In order to find the correct p-value, we must multiply our norm.cdf result by 2 to account for our two-sided alternate hypothesis."
   ]
  },
  {
   "cell_type": "code",
   "execution_count": 143,
   "metadata": {},
   "outputs": [
    {
     "name": "stdout",
     "output_type": "stream",
     "text": [
      "The p-value is 0.12555519084273978.\n"
     ]
    }
   ],
   "source": [
    "# p-value\n",
    "p_value2 = norm.cdf(Z2) * 2\n",
    "p_value2\n",
    "print('The p-value is ' + str(p_value2) + '.')"
   ]
  },
  {
   "cell_type": "markdown",
   "metadata": {},
   "source": [
    "**Hypothesis 2 Conclusion:**\n",
    "\n",
    "Below we establish our conclusion based upon whether we reject the null hypothesis or fail to reject it. If the p-value is greater than $\\alpha$, we fail to reject it, however if it is less than or equal to $\\alpha$, we reject the null hypothesis."
   ]
  },
  {
   "cell_type": "code",
   "execution_count": 144,
   "metadata": {},
   "outputs": [
    {
     "name": "stdout",
     "output_type": "stream",
     "text": [
      "We fail to reject the null hypothesis and conclude that there is no evidence supporting a difference in the population proportion for flights in December from ORD to LAX delaying over an hour between American Airlines and United Airlines.\n"
     ]
    }
   ],
   "source": [
    "# Determining whether to reject the null hypothesis or fail to reject it\n",
    "\n",
    "if (p_value2 > alpha):\n",
    "    print('We fail to reject the null hypothesis and conclude that there is no evidence supporting a difference in the population proportion for flights in December from ORD to LAX delaying over an hour between American Airlines and United Airlines.')\n",
    "else:\n",
    "    print('We reject the null hypothesis and conclude that there is evidence supporting a difference in the population proportion for flights in December from ORD to LAX delaying over an hour between American Airlines and United Airlines.')"
   ]
  },
  {
   "cell_type": "markdown",
   "metadata": {},
   "source": [
    "<span style=\"color:lightgrey\">_______________________________________________________________________________________________________________________________</span>"
   ]
  },
  {
   "cell_type": "markdown",
   "metadata": {},
   "source": [
    "### <mark>Section 3: Hypothesis Test 3</mark>"
   ]
  },
  {
   "cell_type": "markdown",
   "metadata": {},
   "source": [
    "**Question of Interest**: We are interested in the average arrival delay on flights in December from O’Hare International Airport (Chicago) `ORD` to Los Angeles International Airport `LAX`. In particularly, we want to compare the average arrival delay between Frontier Airlines `F9` and Spirit Air Lines `NK`"
   ]
  },
  {
   "cell_type": "code",
   "execution_count": 145,
   "metadata": {},
   "outputs": [],
   "source": [
    "# Filtering for the two populations we are interested in (Frontier and Spirit) and dropping empty values\n",
    "\n",
    "\n",
    "frontier = flights.loc[(flights['MONTH'] == 12) & (flights['ORIGIN_AIRPORT'] == 'ORD') & (flights['DESTINATION_AIRPORT'] == 'LAX') &\n",
    "           (flights['AIRLINE'] == 'F9'), 'ARRIVAL_DELAY'].dropna()\n",
    "\n",
    "spirit = flights.loc[(flights['MONTH'] == 12) & (flights['ORIGIN_AIRPORT'] == 'ORD') & (flights['DESTINATION_AIRPORT'] == 'LAX') &\n",
    "           (flights['AIRLINE'] == 'NK'), 'ARRIVAL_DELAY'].dropna()"
   ]
  },
  {
   "cell_type": "markdown",
   "metadata": {},
   "source": [
    "**Below we check to see if the test assumptions are satisfied.**\n",
    "\n",
    "One of these 2 conditions must be satisfied in order to use a Z-test to compare 2 population means:\n",
    "- 𝑛<sub>1</sub> and 𝑛<sub>2</sub> are large (≥ 30)\n",
    "\n",
    "- Population 1 and population 2 are approximately normal"
   ]
  },
  {
   "cell_type": "code",
   "execution_count": 146,
   "metadata": {},
   "outputs": [
    {
     "name": "stdout",
     "output_type": "stream",
     "text": [
      "F9: n = 31 🗸\n",
      "NK: n = 60 🗸\n"
     ]
    }
   ],
   "source": [
    "# Testing the first condition: n1 (frontier) and n2 (spirit) are >= 30\n",
    "\n",
    "# n1 (frontier) is >= 30\n",
    "frontier_count = frontier.count()\n",
    "\n",
    "if (frontier.count() >= 30):\n",
    "    print('F9: n = ' + str(frontier_count) + ' 🗸')\n",
    "    \n",
    "# n2 (spirit) is >= 30\n",
    "spirit_count = spirit.count()\n",
    "\n",
    "if (spirit.count() >= 30):\n",
    "    print('NK: n = ' + str(spirit_count) + ' 🗸')\n",
    "    \n",
    "# F9 = Frontier Airlines\n",
    "# NK = Spirit Airlines"
   ]
  },
  {
   "cell_type": "markdown",
   "metadata": {},
   "source": [
    "Since the first condition is satisfied we know that it is ok to perform the test and we do not need to test the second condition, so we can move on to stating our hypotheses.\n",
    "\n",
    "--------------------------------------------------------\n",
    "\n",
    "**Hypothesis Test 3**\n",
    "\n",
    "Null Hypothesis: \n",
    "**<span style=\"color:darkred\">H<sub>0</sub></span>**: $\\mu$<sub>1</sub> - $\\mu$<sub>2</sub> = 0    \n",
    "Alternate Hypothesis:\n",
    "**<span style=\"color:darkred\">H<sub>a</sub></span>**: $\\mu$<sub>1</sub> - $\\mu$<sub>2</sub> $\\neq$ 0\n",
    "\n",
    "\n",
    "$\\mu$<sub>1</sub> = Frontier Airlines population mean for arrival delays in December flights from ORD to LAX   \n",
    "$\\mu$<sub>2</sub> = Spirit Airlines population mean for arrival delays in December flights from ORD to LAX\n",
    "\n",
    "Significance level, $\\alpha$ = 0.05\n",
    "\n",
    "Furthermore, I chose a two-sided alternate hypothesis because I would like to simply test for whether a difference exists between $\\mu$<sub>1</sub> and $\\mu$<sub>2</sub>, not necessarily whether $\\mu$<sub>1</sub> is greater or less than $\\mu$<sub>2</sub>."
   ]
  },
  {
   "cell_type": "markdown",
   "metadata": {},
   "source": [
    "Now we will calculate the sample means and standard deviations for Frontier Airlines and Spirit Airlines arrival delays in December flights from ORD to LAX which we will need in our 2-sample z-test."
   ]
  },
  {
   "cell_type": "code",
   "execution_count": 147,
   "metadata": {},
   "outputs": [],
   "source": [
    "# Frontier Airlines sample mean\n",
    "frontier_mean = frontier.mean()\n",
    "\n",
    "# Frontier Airlines sample standard deviation\n",
    "frontier_std = frontier.std()\n",
    "\n",
    "# Spirit Airlines sample mean \n",
    "spirit_mean = spirit.mean()\n",
    "\n",
    "# Spirit Airlines sample standard deviation\n",
    "spirit_std = spirit.std()"
   ]
  },
  {
   "cell_type": "markdown",
   "metadata": {},
   "source": [
    "Now we will input what we calculated above into the 2-sample z-test:"
   ]
  },
  {
   "cell_type": "code",
   "execution_count": 148,
   "metadata": {},
   "outputs": [
    {
     "name": "stdout",
     "output_type": "stream",
     "text": [
      "The z statistic is -0.04508859166691971.\n"
     ]
    }
   ],
   "source": [
    "# 2-sample z-test\n",
    "\n",
    "Z3 = (frontier_mean - spirit_mean)/((frontier_std**2)/frontier_count + (spirit_std**2)/spirit_count)**.5\n",
    "print('The z statistic is ' + str(Z3) + '.')"
   ]
  },
  {
   "cell_type": "markdown",
   "metadata": {},
   "source": [
    "In order to find the correct p-value, we must multiply our norm.cdf result by 2 to account for our two-sided alternate hypothesis."
   ]
  },
  {
   "cell_type": "code",
   "execution_count": 149,
   "metadata": {},
   "outputs": [
    {
     "name": "stdout",
     "output_type": "stream",
     "text": [
      "The p-value is 0.964036694706597.\n"
     ]
    }
   ],
   "source": [
    "# p-value\n",
    "p_value3 = norm.cdf(Z3) * 2\n",
    "print('The p-value is ' + str(p_value3) + '.')"
   ]
  },
  {
   "cell_type": "markdown",
   "metadata": {},
   "source": [
    "**Hypothesis 3 Conclusion:**\n",
    "\n",
    "Here we come up with the conclusion based upon whether we reject the null hypothesis or fail to reject it. If the p-value is greater than $\\alpha$, we fail to reject it, however if it is less than or equal to $\\alpha$, we reject the null hypothesis."
   ]
  },
  {
   "cell_type": "code",
   "execution_count": 150,
   "metadata": {},
   "outputs": [
    {
     "name": "stdout",
     "output_type": "stream",
     "text": [
      "We fail to reject the null hypothesis and conclude that there is no evidence supporting for a difference in the population mean arrival delay on flights in December from O’Hare International Airport (Chicago) ORD to Los Angeles International Airport LAX between Frontier Airlines and Spirit Airlines.\n"
     ]
    }
   ],
   "source": [
    "# Determining whether to reject the null hypothesis or fail to reject it\n",
    "\n",
    "if (p_value3 > alpha):\n",
    "    print('We fail to reject the null hypothesis and conclude that there is no evidence supporting for a difference in the population mean arrival delay on flights in December from O’Hare International Airport (Chicago) ORD to Los Angeles International Airport LAX between Frontier Airlines and Spirit Airlines.')\n",
    "else:\n",
    "    print('We reject the null hypothesis and conclude that there is evidence supporting a difference in the population mean arrival delay on flights in December from O’Hare International Airport (Chicago) ORD to Los Angeles International Airport LAX between Frontier Airlines and Spirit Airlines.')"
   ]
  },
  {
   "cell_type": "markdown",
   "metadata": {},
   "source": [
    "<span style=\"color:lightgrey\">_______________________________________________________________________________________________________________________________</span>"
   ]
  },
  {
   "cell_type": "markdown",
   "metadata": {},
   "source": [
    "### <mark>Section 4: Multiple Comparisons</mark>"
   ]
  },
  {
   "cell_type": "markdown",
   "metadata": {},
   "source": [
    "**Boneferroni's Correction**\n",
    "\n",
    "Now we will calculate the significance level for each hypothesis test at a family-wise error rate of $\\alpha$*"
   ]
  },
  {
   "cell_type": "code",
   "execution_count": 151,
   "metadata": {},
   "outputs": [
    {
     "name": "stdout",
     "output_type": "stream",
     "text": [
      "The probability of making type 1 error(s) in our hypothesis tests is actually 15.000000000000002%, not 5.0%!\n"
     ]
    }
   ],
   "source": [
    "# alpha* = alpha/m, where m = 3 because of our 3 hypothesis tests\n",
    "m = 3\n",
    "alpha_star = alpha/m\n",
    "\n",
    "# family-wise error = ma\n",
    "print(\"The probability of making type 1 error(s) in our hypothesis tests is actually \" + str(alpha * m * 100) + \"%, not \" + str(alpha * 100) + \"%!\")"
   ]
  },
  {
   "cell_type": "markdown",
   "metadata": {},
   "source": [
    "**Hypothesis 1 Test with Boneferroni's Correction**:\n",
    "\n",
    "We will now test the Hypothesis 1 significance using the new significance level $\\alpha$* = 0.016666666666666666."
   ]
  },
  {
   "cell_type": "code",
   "execution_count": 161,
   "metadata": {},
   "outputs": [
    {
     "name": "stdout",
     "output_type": "stream",
     "text": [
      "Conclusion for Hypothesis 1 Test with Boneferroni's Correction: We still fail to reject the null hypothesis and conclude that there is no evidence supporting for a difference in the population mean arrival delay on flights in December from O’Hare International Airport (Chicago) ORD to Los Angeles International Airport LAX between American Airlines and United Airlines.\n"
     ]
    }
   ],
   "source": [
    "# Hypothesis 1 significance with the new significance level, alpha*\n",
    "\n",
    "if (p_value1 > alpha_star):\n",
    "    print(\"Conclusion for Hypothesis 1 Test with Boneferroni's Correction: We still fail to reject the null hypothesis and conclude that there is no evidence supporting for a difference in the population mean arrival delay on flights in December from O’Hare International Airport (Chicago) ORD to Los Angeles International Airport LAX between American Airlines and United Airlines.\")\n",
    "else:\n",
    "    print(\"Conclusion for Hypothesis 1 Test with Boneferroni's Correction: We reject the null hypothesis and conclude that there is evidence supporting a difference in the population mean arrival delay on flights in December from O’Hare International Airport (Chicago) ORD to Los Angeles International Airport LAX between American Airlines and United Airlines.\")"
   ]
  },
  {
   "cell_type": "markdown",
   "metadata": {},
   "source": [
    "**Hypothesis 2 Test with Boneferroni's Correction**:\n",
    "\n",
    "We will now test the Hypothesis 2 significance using the new significance level $\\alpha$* = 0.016666666666666666."
   ]
  },
  {
   "cell_type": "code",
   "execution_count": 162,
   "metadata": {},
   "outputs": [
    {
     "name": "stdout",
     "output_type": "stream",
     "text": [
      "Conclusion for Hypothesis 2 Test with Boneferroni's Correction: We still fail to reject the null hypothesis and conclude that there is no evidence supporting a difference in the population proportion for flights in December from ORD to LAX delaying over an hour between American Airlines and United Airlines.\n"
     ]
    }
   ],
   "source": [
    "# Hypothesis 2 significance with the new significance level, alpha*\n",
    "\n",
    "if (p_value2 > alpha_star):\n",
    "    print(\"Conclusion for Hypothesis 2 Test with Boneferroni's Correction: We still fail to reject the null hypothesis and conclude that there is no evidence supporting a difference in the population proportion for flights in December from ORD to LAX delaying over an hour between American Airlines and United Airlines.\")\n",
    "else:\n",
    "    print(\"Conclusion for Hypothesis 2 Test with Boneferroni's CorrectionWe reject the null hypothesis and conclude that there is evidence supporting a difference in the population proportion for flights in December from ORD to LAX delaying over an hour between American Airlines and United Airlines.\")"
   ]
  },
  {
   "cell_type": "markdown",
   "metadata": {},
   "source": [
    "**Hypothesis 3 Test with Boneferroni's Correction**:\n",
    "\n",
    "We will now test the Hypothesis 3 significance using the new significance level $\\alpha$* = 0.016666666666666666."
   ]
  },
  {
   "cell_type": "code",
   "execution_count": 163,
   "metadata": {},
   "outputs": [
    {
     "name": "stdout",
     "output_type": "stream",
     "text": [
      "Conclusion for Hypothesis 3 Test with Boneferroni's Correction: We still fail to reject the null hypothesis and conclude that there is no evidence supporting for a difference in the population mean arrival delay on flights in December from O’Hare International Airport (Chicago) ORD to Los Angeles International Airport LAX between Frontier Airlines and Spirit Airlines.\n"
     ]
    }
   ],
   "source": [
    "# Hypothesis 3 significance with the new significance level, alpha*\n",
    "\n",
    "if (p_value3 > alpha_star):\n",
    "    print(\"Conclusion for Hypothesis 3 Test with Boneferroni's Correction: We still fail to reject the null hypothesis and conclude that there is no evidence supporting for a difference in the population mean arrival delay on flights in December from O’Hare International Airport (Chicago) ORD to Los Angeles International Airport LAX between Frontier Airlines and Spirit Airlines.\")\n",
    "else:\n",
    "    print(\"Conclusion for Hypothesis 3 Test with Boneferroni's Correction: We reject the null hypothesis and conclude that there is evidence supporting a difference in the population mean arrival delay on flights in December from O’Hare International Airport (Chicago) ORD to Los Angeles International Airport LAX between Frontier Airlines and Spirit Airlines.\")"
   ]
  },
  {
   "cell_type": "markdown",
   "metadata": {},
   "source": [
    "None of the previous hypotheses conclusions change while using the corrected significance level, $\\alpha$*, so we still fail to reject all 3 of the previous null hypotheses."
   ]
  }
 ],
 "metadata": {
  "kernelspec": {
   "display_name": "Python 3",
   "language": "python",
   "name": "python3"
  },
  "language_info": {
   "codemirror_mode": {
    "name": "ipython",
    "version": 3
   },
   "file_extension": ".py",
   "mimetype": "text/x-python",
   "name": "python",
   "nbconvert_exporter": "python",
   "pygments_lexer": "ipython3",
   "version": "3.7.4"
  }
 },
 "nbformat": 4,
 "nbformat_minor": 4
}
